{
 "cells": [
  {
   "cell_type": "markdown",
   "metadata": {},
   "source": [
    "ADS 509 Sentiment Assignment\n",
    "This notebook holds the Sentiment Assignment for Module 6 in ADS 509, Applied Text Mining. Work through this notebook, writing code and answering questions where required.\n",
    "\n",
    "In a previous assignment you put together Twitter data and lyrics data on two artists. In this assignment we apply sentiment analysis to those data sets. If, for some reason, you did not complete that previous assignment, data to use for this assignment can be found in the assignment materials section of Blackboard.\n",
    "\n",
    "General Assignment Instructions\n",
    "These instructions are included in every assignment, to remind you of the coding standards for the class. Feel free to delete this cell after reading it.\n",
    "\n",
    "One sign of mature code is conforming to a style guide. We recommend the Google Python Style Guide. If you use a different style guide, please include a cell with a link.\n",
    "\n",
    "Your code should be relatively easy-to-read, sensibly commented, and clean. Writing code is a messy process, so please be sure to edit your final submission. Remove any cells that are not needed or parts of cells that contain unnecessary code. Remove inessential import statements and make sure that all such statements are moved into the designated cell.\n",
    "\n",
    "Make use of non-code cells for written commentary. These cells should be grammatical and clearly written. In some of these cells you will have questions to answer. The questions will be marked by a \"Q:\" and will have a corresponding \"A:\" spot for you. Make sure to answer every question marked with a Q: for full credit."
   ]
  },
  {
   "cell_type": "markdown",
   "metadata": {},
   "source": [
    "# Data Input"
   ]
  },
  {
   "cell_type": "code",
   "execution_count": 1,
   "metadata": {},
   "outputs": [],
   "source": [
    "import os\n",
    "import re\n",
    "import emoji\n",
    "import pandas as pd\n",
    "\n",
    "from collections import Counter, defaultdict\n",
    "from nltk.corpus import stopwords\n",
    "from string import punctuation\n",
    "from wordcloud import WordCloud \n",
    "\n",
    "from sklearn.feature_extraction.text import TfidfTransformer, CountVectorizer\n",
    "\n",
    "import re\n",
    "from string import punctuation\n",
    "\n",
    "from nltk.tokenize import word_tokenize \n"
   ]
  },
  {
   "cell_type": "markdown",
   "metadata": {},
   "source": [
    "# Read in the lyrics data"
   ]
  },
  {
   "cell_type": "code",
   "execution_count": 2,
   "metadata": {},
   "outputs": [],
   "source": [
    "# Some punctuation variations\n",
    "punctuation = set(punctuation) # speeds up comparison\n",
    "tw_punct = punctuation - {\"#\"}\n",
    "\n",
    "# Stopwords\n",
    "sw = set(stopwords.words(\"english\"))\n",
    "\n",
    "# Two useful regex\n",
    "whitespace_pattern = re.compile(r\"\\s+\")\n",
    "hashtag_pattern = re.compile(r\"^#[0-9a-zA-Z]+\")\n",
    "\n",
    "# It's handy to have a full set of emojis\n",
    "all_language_emojis = set()\n",
    "\n",
    "for country in emoji.UNICODE_EMOJI : \n",
    "    for em in emoji.UNICODE_EMOJI[country] : \n",
    "        all_language_emojis.add(em)\n",
    "\n",
    "# and now our functions\n",
    "def descriptive_stats(tokens, num_tokens = 5, verbose=True) :\n",
    "    num_tokens= len(tokens)\n",
    "    unique_tokens = set(tokens)\n",
    "    num_unique_tokens = len(unique_tokens)\n",
    "    lexical_diversity = num_unique_tokens/num_tokens\n",
    "    num_characters = len(\"\".join(tokens))\n",
    "\n",
    "    if verbose :        \n",
    "        print(f\"There are {num_tokens} tokens in the data.\")\n",
    "        print(f\"There are {num_unique_tokens} unique tokens in the data.\")\n",
    "        print(f\"There are {num_characters} characters in the data.\")\n",
    "        print(f\"The lexical diversity is {lexical_diversity:.3f} in the data.\")    \n",
    "    \n",
    "    return(0)\n",
    "\n",
    "def is_emoji(s):\n",
    "    return(s in all_language_emojis)\n",
    "\n",
    "def contains_emoji(s):\n",
    "    \n",
    "    s = str(s)\n",
    "    emojis = [ch for ch in s if is_emoji(ch)]\n",
    "\n",
    "    return(len(emojis) > 0)\n",
    "\n",
    "def remove_stop(tokens) :\n",
    "    # modify this function to remove stopwords\n",
    "    return set(tokens)-sw\n",
    "\n",
    "def remove_punctuation(text, punct_set=tw_punct) : \n",
    "    return(\"\".join([ch for ch in text if ch not in punct_set]))\n",
    "\n",
    "def tokenize(text) : \n",
    "    return re.split('\\s+',text)\n",
    "\n",
    "def prepare(text, pipeline) : \n",
    "    tokens = str(text)\n",
    "    \n",
    "    for transform in pipeline : \n",
    "        tokens = transform(tokens)\n",
    "        \n",
    "    return(tokens)"
   ]
  },
  {
   "cell_type": "code",
   "execution_count": 3,
   "metadata": {},
   "outputs": [],
   "source": [
    "data_location = \"C:\\\\Users\\\\trist\\\\OneDrive\\\\Desktop\\\\Freelance\\School\\\\M1 Results\\\\\" # change to your location if it is not in the same directory as your notebook\n",
    "twitter_folder = \"twitter/\"\n",
    "lyrics_folder = \"lyrics/\"\n",
    "\n",
    "artist_files = {'cher':'cher_followers_data.txt',\n",
    "                'robyn':'robynkonichiwa_followers_data.txt'}"
   ]
  },
  {
   "cell_type": "markdown",
   "metadata": {},
   "source": [
    "# # Read in the twitter data"
   ]
  },
  {
   "cell_type": "code",
   "execution_count": 4,
   "metadata": {},
   "outputs": [
    {
     "data": {
      "text/html": [
       "<div>\n",
       "<style scoped>\n",
       "    .dataframe tbody tr th:only-of-type {\n",
       "        vertical-align: middle;\n",
       "    }\n",
       "\n",
       "    .dataframe tbody tr th {\n",
       "        vertical-align: top;\n",
       "    }\n",
       "\n",
       "    .dataframe thead th {\n",
       "        text-align: right;\n",
       "    }\n",
       "</style>\n",
       "<table border=\"1\" class=\"dataframe\">\n",
       "  <thead>\n",
       "    <tr style=\"text-align: right;\">\n",
       "      <th></th>\n",
       "      <th>screen_name</th>\n",
       "      <th>name</th>\n",
       "      <th>id</th>\n",
       "      <th>location</th>\n",
       "      <th>followers_count</th>\n",
       "      <th>friends_count</th>\n",
       "      <th>description</th>\n",
       "      <th>artist</th>\n",
       "    </tr>\n",
       "  </thead>\n",
       "  <tbody>\n",
       "    <tr>\n",
       "      <th>0</th>\n",
       "      <td>hsmcnp</td>\n",
       "      <td>Country Girl</td>\n",
       "      <td>35152213</td>\n",
       "      <td></td>\n",
       "      <td>1302</td>\n",
       "      <td>1014</td>\n",
       "      <td></td>\n",
       "      <td>cher</td>\n",
       "    </tr>\n",
       "    <tr>\n",
       "      <th>1</th>\n",
       "      <td>horrormomy</td>\n",
       "      <td>Jeny</td>\n",
       "      <td>742153090850164742</td>\n",
       "      <td>Earth</td>\n",
       "      <td>81</td>\n",
       "      <td>514</td>\n",
       "      <td>𝙿𝚛𝚘𝚞𝚍 𝚜𝚞𝚙𝚙𝚘𝚛𝚝𝚎𝚛 𝚘𝚏 𝚖𝚎𝚜𝚜𝚢 𝚋𝚞𝚗𝚜 &amp; 𝚕𝚎𝚐𝚐𝚒𝚗𝚐𝚜</td>\n",
       "      <td>cher</td>\n",
       "    </tr>\n",
       "    <tr>\n",
       "      <th>2</th>\n",
       "      <td>anju79990584</td>\n",
       "      <td>anju</td>\n",
       "      <td>1496463006451974150</td>\n",
       "      <td></td>\n",
       "      <td>13</td>\n",
       "      <td>140</td>\n",
       "      <td>163㎝／愛かっぷ💜26歳🍒 工〇好きな女の子💓 フォローしてくれたらDMします🧡</td>\n",
       "      <td>cher</td>\n",
       "    </tr>\n",
       "    <tr>\n",
       "      <th>3</th>\n",
       "      <td>gallionjenna</td>\n",
       "      <td>J</td>\n",
       "      <td>3366479914</td>\n",
       "      <td></td>\n",
       "      <td>752</td>\n",
       "      <td>556</td>\n",
       "      <td>csu</td>\n",
       "      <td>cher</td>\n",
       "    </tr>\n",
       "    <tr>\n",
       "      <th>4</th>\n",
       "      <td>bcscomm</td>\n",
       "      <td>bcscomm</td>\n",
       "      <td>83915043</td>\n",
       "      <td>Washington, DC</td>\n",
       "      <td>888</td>\n",
       "      <td>2891</td>\n",
       "      <td>Writer @Washinformer @SpelmanCollege alumna #D...</td>\n",
       "      <td>cher</td>\n",
       "    </tr>\n",
       "    <tr>\n",
       "      <th>...</th>\n",
       "      <td>...</td>\n",
       "      <td>...</td>\n",
       "      <td>...</td>\n",
       "      <td>...</td>\n",
       "      <td>...</td>\n",
       "      <td>...</td>\n",
       "      <td>...</td>\n",
       "      <td>...</td>\n",
       "    </tr>\n",
       "    <tr>\n",
       "      <th>3994798</th>\n",
       "      <td>tija15</td>\n",
       "      <td>Tija</td>\n",
       "      <td>556744001</td>\n",
       "      <td></td>\n",
       "      <td>3</td>\n",
       "      <td>48</td>\n",
       "      <td></td>\n",
       "      <td>cher</td>\n",
       "    </tr>\n",
       "    <tr>\n",
       "      <th>3994799</th>\n",
       "      <td>Hopplosa</td>\n",
       "      <td>Beea</td>\n",
       "      <td>132963903</td>\n",
       "      <td>Strägnäs</td>\n",
       "      <td>7</td>\n",
       "      <td>165</td>\n",
       "      <td>En IQ befriad brud från Strängnäs</td>\n",
       "      <td>cher</td>\n",
       "    </tr>\n",
       "    <tr>\n",
       "      <th>3994800</th>\n",
       "      <td>shazza280</td>\n",
       "      <td>Sharren Dalton</td>\n",
       "      <td>556598821</td>\n",
       "      <td></td>\n",
       "      <td>138</td>\n",
       "      <td>227</td>\n",
       "      <td></td>\n",
       "      <td>cher</td>\n",
       "    </tr>\n",
       "    <tr>\n",
       "      <th>3994801</th>\n",
       "      <td>pinchechemo1</td>\n",
       "      <td>Ivan Cruces</td>\n",
       "      <td>88285095</td>\n",
       "      <td>CDMX</td>\n",
       "      <td>258</td>\n",
       "      <td>1410</td>\n",
       "      <td>Un ente más en esta sociedad!</td>\n",
       "      <td>cher</td>\n",
       "    </tr>\n",
       "    <tr>\n",
       "      <th>3994802</th>\n",
       "      <td>missy_pooh34</td>\n",
       "      <td>melissa melendez</td>\n",
       "      <td>556532344</td>\n",
       "      <td></td>\n",
       "      <td>0</td>\n",
       "      <td>32</td>\n",
       "      <td></td>\n",
       "      <td>cher</td>\n",
       "    </tr>\n",
       "  </tbody>\n",
       "</table>\n",
       "<p>3994803 rows × 8 columns</p>\n",
       "</div>"
      ],
      "text/plain": [
       "          screen_name              name                   id        location  \\\n",
       "0              hsmcnp      Country Girl             35152213                   \n",
       "1          horrormomy              Jeny   742153090850164742           Earth   \n",
       "2        anju79990584              anju  1496463006451974150                   \n",
       "3        gallionjenna                 J           3366479914                   \n",
       "4             bcscomm           bcscomm             83915043  Washington, DC   \n",
       "...               ...               ...                  ...             ...   \n",
       "3994798        tija15              Tija            556744001                   \n",
       "3994799      Hopplosa              Beea            132963903        Strägnäs   \n",
       "3994800     shazza280    Sharren Dalton            556598821                   \n",
       "3994801  pinchechemo1       Ivan Cruces             88285095            CDMX   \n",
       "3994802  missy_pooh34  melissa melendez            556532344                   \n",
       "\n",
       "         followers_count  friends_count  \\\n",
       "0                   1302           1014   \n",
       "1                     81            514   \n",
       "2                     13            140   \n",
       "3                    752            556   \n",
       "4                    888           2891   \n",
       "...                  ...            ...   \n",
       "3994798                3             48   \n",
       "3994799                7            165   \n",
       "3994800              138            227   \n",
       "3994801              258           1410   \n",
       "3994802                0             32   \n",
       "\n",
       "                                               description artist  \n",
       "0                                                            cher  \n",
       "1                 𝙿𝚛𝚘𝚞𝚍 𝚜𝚞𝚙𝚙𝚘𝚛𝚝𝚎𝚛 𝚘𝚏 𝚖𝚎𝚜𝚜𝚢 𝚋𝚞𝚗𝚜 & 𝚕𝚎𝚐𝚐𝚒𝚗𝚐𝚜   cher  \n",
       "2                163㎝／愛かっぷ💜26歳🍒 工〇好きな女の子💓 フォローしてくれたらDMします🧡   cher  \n",
       "3                                                      csu   cher  \n",
       "4        Writer @Washinformer @SpelmanCollege alumna #D...   cher  \n",
       "...                                                    ...    ...  \n",
       "3994798                                                      cher  \n",
       "3994799                  En IQ befriad brud från Strängnäs   cher  \n",
       "3994800                                                      cher  \n",
       "3994801                      Un ente más en esta sociedad!   cher  \n",
       "3994802                                                      cher  \n",
       "\n",
       "[3994803 rows x 8 columns]"
      ]
     },
     "execution_count": 4,
     "metadata": {},
     "output_type": "execute_result"
    }
   ],
   "source": [
    "twitter_data = pd.read_csv(data_location + twitter_folder + artist_files['cher'],\n",
    "                           sep=\"\\t\",\n",
    "                           quoting=3,)\n",
    "\n",
    "twitter_data['artist'] = \"cher\"\n",
    "\n",
    "twitter_data.fillna(\" \")"
   ]
  },
  {
   "cell_type": "code",
   "execution_count": 5,
   "metadata": {},
   "outputs": [],
   "source": [
    "twitter_data_2 = pd.read_csv(data_location + twitter_folder + artist_files['robyn'],\n",
    "                             sep=\"\\t\",\n",
    "                             quoting=3)\n",
    "twitter_data_2['artist'] = \"robyn\"\n",
    "\n",
    "twitter_data = pd.concat([\n",
    "    twitter_data,twitter_data_2])\n",
    "    \n",
    "del(twitter_data_2)"
   ]
  },
  {
   "cell_type": "markdown",
   "metadata": {},
   "source": [
    "# Read in the lyrics data"
   ]
  },
  {
   "cell_type": "code",
   "execution_count": 7,
   "metadata": {},
   "outputs": [],
   "source": [
    "import pandas as pd\n",
    "from collections import namedtuple\n",
    "import os\n",
    "\n",
    "# Read Lyrics\n",
    "def read_lyrics_from_artist_folder(artist):\n",
    "\n",
    "    artist_files = os.listdir(\"lyrics/\" + artist)\n",
    "    artist_files = [f for f in artist_files if 'txt' in f or 'csv' in f or 'tsv' in f]\n",
    "    lyrics_tuples = []\n",
    "    for f_name in artist_files : \n",
    "        with open(\"lyrics/\" + artist + \"/\" + f_name) as infile : \n",
    "            song = re.split('.txt',f_name)\n",
    "            contents = infile.read()\n",
    "            lyrics_tuples.append((artist,song[0],contents))\n",
    "            # lyrics_dict[artist][song[0]]=contents\n",
    "    return lyrics_tuples\n",
    "\n",
    "lyrics_list = []\n",
    "\n",
    "# read lyrics for each artists and add to list\n",
    "for artist in ['cher','robyn']:\n",
    "    lyrics_list+=read_lyrics_from_artist_folder(artist)\n",
    "\n",
    "lyrics_data = pd.DataFrame(lyrics_list,columns=['artist','song','lyrics'])"
   ]
  },
  {
   "cell_type": "code",
   "execution_count": 8,
   "metadata": {},
   "outputs": [
    {
     "name": "stdout",
     "output_type": "stream",
     "text": [
      "<bound method NDFrame.head of          screen_name          name                   id        location  \\\n",
      "0             hsmcnp  Country Girl             35152213             NaN   \n",
      "1         horrormomy          Jeny   742153090850164742           Earth   \n",
      "2       anju79990584          anju  1496463006451974150             NaN   \n",
      "3       gallionjenna             J           3366479914             NaN   \n",
      "4            bcscomm       bcscomm             83915043  Washington, DC   \n",
      "...              ...           ...                  ...             ...   \n",
      "358367     jakegiles    Jake Giles             19725102              LA   \n",
      "358368    axelbluhme   Axel Bluhme             19573759              DK   \n",
      "358369   RayRayRay27    Rachael :)             19919217          Oldham   \n",
      "358370     bhandberg  Ben Handberg             12642462          Sydney   \n",
      "358371    takemeback     Christine             15022058      New Jersey   \n",
      "\n",
      "        followers_count  friends_count  \\\n",
      "0                  1302           1014   \n",
      "1                    81            514   \n",
      "2                    13            140   \n",
      "3                   752            556   \n",
      "4                   888           2891   \n",
      "...                 ...            ...   \n",
      "358367             7690           2165   \n",
      "358368              238           1565   \n",
      "358369              762           1479   \n",
      "358370              432            593   \n",
      "358371              182            260   \n",
      "\n",
      "                                              description artist  \\\n",
      "0                                                     NaN   cher   \n",
      "1                𝙿𝚛𝚘𝚞𝚍 𝚜𝚞𝚙𝚙𝚘𝚛𝚝𝚎𝚛 𝚘𝚏 𝚖𝚎𝚜𝚜𝚢 𝚋𝚞𝚗𝚜 & 𝚕𝚎𝚐𝚐𝚒𝚗𝚐𝚜   cher   \n",
      "2               163㎝／愛かっぷ💜26歳🍒 工〇好きな女の子💓 フォローしてくれたらDMします🧡   cher   \n",
      "3                                                     csu   cher   \n",
      "4       Writer @Washinformer @SpelmanCollege alumna #D...   cher   \n",
      "...                                                   ...    ...   \n",
      "358367  singer of songs, type 1 diabetic, tired $jakel...  robyn   \n",
      "358368  Dadx2/ Con-Arch/ Photographer/ DK #stemgrønnes...  robyn   \n",
      "358369         A year to change a life is still a year ✨😌  robyn   \n",
      "358370  Head of Consumer - Mango. Made in Melbourne. R...  robyn   \n",
      "358371  Stand for what is right, even if you stand alone.  robyn   \n",
      "\n",
      "                                                   tokens  num_tokens  \n",
      "0                                                   {nan}           1  \n",
      "1           {𝙿𝚛𝚘𝚞𝚍, 𝚋𝚞𝚗𝚜, 𝚘𝚏, 𝚜𝚞𝚙𝚙𝚘𝚛𝚝𝚎𝚛, 𝚕𝚎𝚐𝚐𝚒𝚗𝚐𝚜, 𝚖𝚎𝚜𝚜𝚢}           6  \n",
      "2           {163㎝／愛かっぷ💜26歳🍒, 工〇好きな女の子💓, フォローしてくれたらdmします🧡}           3  \n",
      "3                                                   {csu}           1  \n",
      "4       {wibsilergmailcom, past, writer, pro, pr, bcsc...          17  \n",
      "...                                                   ...         ...  \n",
      "358367  {singer, type, diabetic, 1, songs, tired, jake...           9  \n",
      "358368  {photographer, #grøntvalg, dk, #actonclimate, ...           8  \n",
      "358369                    {change, ✨😌, life, year, still}           5  \n",
      "358370  {head, melbourne, consumer, mango, ramblings, ...           6  \n",
      "358371                        {even, right, alone, stand}           4  \n",
      "\n",
      "[4353175 rows x 10 columns]>\n",
      "<bound method NDFrame.head of     artist                           song  \\\n",
      "0     cher                 cher_88degrees   \n",
      "1     cher  cher_adifferentkindoflovesong   \n",
      "2     cher                  cher_afterall   \n",
      "3     cher                     cher_again   \n",
      "4     cher                     cher_alfie   \n",
      "..     ...                            ...   \n",
      "415  robyn   robyn_wedancetothebeat114528   \n",
      "416  robyn        robyn_wheredidourlovego   \n",
      "417  robyn             robyn_whosthatgirl   \n",
      "418  robyn       robyn_witheveryheartbeat   \n",
      "419  robyn    robyn_youvegotthatsomething   \n",
      "\n",
      "                                                lyrics  \\\n",
      "0    \"88 Degrees\"\\n\\n\\n\\nStuck in L.A., ain't got n...   \n",
      "1    \"A Different Kind Of Love Song\"\\n\\n\\n\\nWhat if...   \n",
      "2    \"After All\"\\n\\n\\n\\nWell, here we are again\\nI ...   \n",
      "3    \"Again\"\\n\\n\\n\\nAgain evening finds me at your ...   \n",
      "4    \"Alfie\"\\n\\n\\n\\nWhat's it all about, Alfie?\\nIs...   \n",
      "..                                                 ...   \n",
      "415  \"We Dance To The Beat\"\\n\\n\\n\\nWe dance to the ...   \n",
      "416  \"Where Did Our Love Go\"\\n\\n\\n\\nThoughts about ...   \n",
      "417  \"Who's That Girl\"\\n\\n\\n\\nGood girls are pretty...   \n",
      "418  \"With Every Heartbeat\"\\n\\n\\n\\nMaybe we could m...   \n",
      "419  \"You've Got That Something\"\\n\\n\\n\\nLook at me ...   \n",
      "\n",
      "                                                tokens  num_tokens  \n",
      "0    {, hoping, sure, damn, one, pay, gold, lot, ai...          83  \n",
      "1    {, plane, strange, go, believe, song, sky, pla...          42  \n",
      "2    {memory, , weve, fate, tried, known, goes, muc...          60  \n",
      "3    {, believe, say, ask, much, way, lie, eyes, kn...          29  \n",
      "4    {, cruel, exist, nonbelievers, believe, sure, ...          47  \n",
      "..                                                 ...         ...  \n",
      "415  {, false, opportunity, breed, distant, losing,...          73  \n",
      "416  {, fill, go, shade, one, hope, way, strong, fe...          43  \n",
      "417  {, satisfied, lets, say, tried, swear, ask, pr...          55  \n",
      "418  {, tell, bit, change, step, right, never, im, ...          34  \n",
      "419  {, feelin, go, ive, sacrifice, say, tried, wor...          57  \n",
      "\n",
      "[420 rows x 5 columns]>\n"
     ]
    }
   ],
   "source": [
    "# apply the `pipeline` techniques from BTAP Ch 1 or 5\n",
    "\n",
    "lyrics_pipeline = [str.lower, remove_punctuation, tokenize, remove_stop]\n",
    "\n",
    "lyrics_data[\"tokens\"] = lyrics_data[\"lyrics\"].apply(prepare,pipeline=lyrics_pipeline)\n",
    "lyrics_data[\"num_tokens\"] = lyrics_data[\"tokens\"].map(len) \n",
    "\n",
    "twitter_data[\"tokens\"] = twitter_data[\"description\"].apply(prepare,pipeline=lyrics_pipeline)\n",
    "twitter_data[\"num_tokens\"] = twitter_data[\"tokens\"].map(len)\n",
    "\n",
    "print(twitter_data.head)\n",
    "print(lyrics_data.head)"
   ]
  },
  {
   "cell_type": "markdown",
   "metadata": {},
   "source": [
    "# Read in the positive and negative words and the\n",
    "# tidytext sentiment. Store these so that the positive\n",
    "# words are associated with a score of +1 and negative words\n",
    "# are associated with a score of -1. You can use a dataframe or a \n",
    "# dictionary for this."
   ]
  },
  {
   "cell_type": "code",
   "execution_count": 9,
   "metadata": {},
   "outputs": [],
   "source": [
    "# Read in the positive and negative words and the \n",
    "# tidytext sentiment. Store these so that the positive \n",
    "# words are associated with a score of +1 and negative words \n",
    "# are associated with a score of -1. You can use a dataframe or a  \n",
    "# dictionary for this. \n",
    "\n",
    "# Used a DF\n",
    "\n",
    "# Reading in Postive\n",
    "pw_df = pd.read_csv(\"./positive-words.txt\",header=None,skiprows=34,names=['word']) \n",
    "pw_df['sentiment'] = 'positive' \n",
    "pw_df['score'] = 1 \n",
    " \n",
    "\n",
    "# Reading in Negative\n",
    "nw_df = pd.read_csv(\"./negative-words.txt\",header=None,skiprows=34,names=['word'],encoding='latin-1')\n",
    "nw_df['sentiment'] = 'negative' \n",
    "nw_df['score'] = -1 \n",
    " \n",
    "# Readying in Tidy\n",
    "tt_df = pd.read_csv(\"./tidytext_sentiments.txt\",sep=\"\\t\") "
   ]
  },
  {
   "cell_type": "markdown",
   "metadata": {},
   "source": [
    "# Sentiment Analysis on Songs"
   ]
  },
  {
   "cell_type": "code",
   "execution_count": 10,
   "metadata": {},
   "outputs": [],
   "source": [
    "# Going to count how many postive or negative words there are and cast to dict\n",
    "\n",
    "word_dict = {} \n",
    "pos_score = 1 \n",
    "neg_score = -1 \n",
    "# Adding the positive words to the dictionary \n",
    "for word in pw_df['word'].tolist(): word_dict[word] = pos_score \n",
    "# Adding the negative words to the dictionary \n",
    "for word in nw_df['word'].tolist(): word_dict[word] = neg_score"
   ]
  },
  {
   "cell_type": "code",
   "execution_count": 11,
   "metadata": {},
   "outputs": [],
   "source": [
    "# Create sentiment_score function\n",
    "# ss = Sentiment_score\n",
    "def sentiment_score(text): \n",
    "  ss = 0 \n",
    "  b_o_w = word_tokenize(text.lower())  \n",
    "  for word in b_o_w: \n",
    "    if word in word_dict: \n",
    "      ss += word_dict[word] \n",
    "  return ss / len(b_o_w) "
   ]
  },
  {
   "cell_type": "code",
   "execution_count": 12,
   "metadata": {},
   "outputs": [],
   "source": [
    "lyrics_data['Sentiment_Score'] = lyrics_data['lyrics'].apply(sentiment_score) "
   ]
  },
  {
   "cell_type": "code",
   "execution_count": 13,
   "metadata": {},
   "outputs": [
    {
     "data": {
      "text/plain": [
       "<AxesSubplot:title={'center':'Sentiment_Score'}, xlabel='[artist]'>"
      ]
     },
     "execution_count": 13,
     "metadata": {},
     "output_type": "execute_result"
    },
    {
     "data": {
      "image/png": "[encoded data removed]",
      "text/plain": [
       "<Figure size 1080x360 with 1 Axes>"
      ]
     },
     "metadata": {
      "needs_background": "light"
     },
     "output_type": "display_data"
    }
   ],
   "source": [
    "lyrics_data[['Sentiment_Score','artist']].boxplot(by='artist',figsize=(15,5),showmeans=True) "
   ]
  },
  {
   "cell_type": "markdown",
   "metadata": {},
   "source": [
    "## Q: Overall, which artist has the higher average sentiment per song?"
   ]
  },
  {
   "cell_type": "markdown",
   "metadata": {},
   "source": [
    "## A: Cher has the higher average sentiment per song slightly."
   ]
  },
  {
   "cell_type": "markdown",
   "metadata": {},
   "source": [
    "## Q: For your first artist, what songs have the highest and lowest sentiments? Print those songs to the screen"
   ]
  },
  {
   "cell_type": "code",
   "execution_count": 14,
   "metadata": {},
   "outputs": [
    {
     "data": {
      "text/html": [
       "<div>\n",
       "<style scoped>\n",
       "    .dataframe tbody tr th:only-of-type {\n",
       "        vertical-align: middle;\n",
       "    }\n",
       "\n",
       "    .dataframe tbody tr th {\n",
       "        vertical-align: top;\n",
       "    }\n",
       "\n",
       "    .dataframe thead th {\n",
       "        text-align: right;\n",
       "    }\n",
       "</style>\n",
       "<table border=\"1\" class=\"dataframe\">\n",
       "  <thead>\n",
       "    <tr style=\"text-align: right;\">\n",
       "      <th></th>\n",
       "      <th>artist</th>\n",
       "      <th>song</th>\n",
       "      <th>lyrics</th>\n",
       "      <th>tokens</th>\n",
       "      <th>num_tokens</th>\n",
       "      <th>Sentiment_Score</th>\n",
       "    </tr>\n",
       "  </thead>\n",
       "  <tbody>\n",
       "    <tr>\n",
       "      <th>42</th>\n",
       "      <td>cher</td>\n",
       "      <td>cher_crymyselftosleep</td>\n",
       "      <td>\"Cry Myself To Sleep\"\\n\\n\\n\\nEvery night, I la...</td>\n",
       "      <td>{, bed, sleep, linger, lies, nothing, know, he...</td>\n",
       "      <td>24</td>\n",
       "      <td>-0.097222</td>\n",
       "    </tr>\n",
       "    <tr>\n",
       "      <th>181</th>\n",
       "      <td>cher</td>\n",
       "      <td>cher_mylove</td>\n",
       "      <td>\"My Love\"\\n\\n\\n\\nWhen I go away\\nI know my hea...</td>\n",
       "      <td>{hold, , go, say, ask, mewhoa, find, know, nev...</td>\n",
       "      <td>29</td>\n",
       "      <td>0.222222</td>\n",
       "    </tr>\n",
       "  </tbody>\n",
       "</table>\n",
       "</div>"
      ],
      "text/plain": [
       "    artist                   song  \\\n",
       "42    cher  cher_crymyselftosleep   \n",
       "181   cher            cher_mylove   \n",
       "\n",
       "                                                lyrics  \\\n",
       "42   \"Cry Myself To Sleep\"\\n\\n\\n\\nEvery night, I la...   \n",
       "181  \"My Love\"\\n\\n\\n\\nWhen I go away\\nI know my hea...   \n",
       "\n",
       "                                                tokens  num_tokens  \\\n",
       "42   {, bed, sleep, linger, lies, nothing, know, he...          24   \n",
       "181  {hold, , go, say, ask, mewhoa, find, know, nev...          29   \n",
       "\n",
       "     Sentiment_Score  \n",
       "42         -0.097222  \n",
       "181         0.222222  "
      ]
     },
     "execution_count": 14,
     "metadata": {},
     "output_type": "execute_result"
    }
   ],
   "source": [
    "lyrics_data[lyrics_data['artist']=='cher'].sort_values(by=['Sentiment_Score']).iloc[[0,-1]]\n"
   ]
  },
  {
   "cell_type": "markdown",
   "metadata": {},
   "source": [
    "## Q: For your second artist, what songs have the highest and lowest sentiments? Print those songs to the screen"
   ]
  },
  {
   "cell_type": "code",
   "execution_count": 15,
   "metadata": {},
   "outputs": [
    {
     "data": {
      "text/html": [
       "<div>\n",
       "<style scoped>\n",
       "    .dataframe tbody tr th:only-of-type {\n",
       "        vertical-align: middle;\n",
       "    }\n",
       "\n",
       "    .dataframe tbody tr th {\n",
       "        vertical-align: top;\n",
       "    }\n",
       "\n",
       "    .dataframe thead th {\n",
       "        text-align: right;\n",
       "    }\n",
       "</style>\n",
       "<table border=\"1\" class=\"dataframe\">\n",
       "  <thead>\n",
       "    <tr style=\"text-align: right;\">\n",
       "      <th></th>\n",
       "      <th>artist</th>\n",
       "      <th>song</th>\n",
       "      <th>lyrics</th>\n",
       "      <th>tokens</th>\n",
       "      <th>num_tokens</th>\n",
       "      <th>Sentiment_Score</th>\n",
       "    </tr>\n",
       "  </thead>\n",
       "  <tbody>\n",
       "    <tr>\n",
       "      <th>342</th>\n",
       "      <td>robyn</td>\n",
       "      <td>robyn_dontfuckingtellmewhattodo</td>\n",
       "      <td>\"Don't Fucking Tell Me What To Do\"\\n\\n\\n\\nMy d...</td>\n",
       "      <td>{, managers, shoppings, go, landlords, sleep, ...</td>\n",
       "      <td>41</td>\n",
       "      <td>-0.170354</td>\n",
       "    </tr>\n",
       "    <tr>\n",
       "      <th>380</th>\n",
       "      <td>robyn</td>\n",
       "      <td>robyn_loveisfree</td>\n",
       "      <td>\"Love Is Free\"\\n\\n\\n\\nFree\\nLove is free, baby...</td>\n",
       "      <td>{ugly, , mutter, rubber, x8, lo, digo, boom, l...</td>\n",
       "      <td>49</td>\n",
       "      <td>0.179894</td>\n",
       "    </tr>\n",
       "  </tbody>\n",
       "</table>\n",
       "</div>"
      ],
      "text/plain": [
       "    artist                             song  \\\n",
       "342  robyn  robyn_dontfuckingtellmewhattodo   \n",
       "380  robyn                 robyn_loveisfree   \n",
       "\n",
       "                                                lyrics  \\\n",
       "342  \"Don't Fucking Tell Me What To Do\"\\n\\n\\n\\nMy d...   \n",
       "380  \"Love Is Free\"\\n\\n\\n\\nFree\\nLove is free, baby...   \n",
       "\n",
       "                                                tokens  num_tokens  \\\n",
       "342  {, managers, shoppings, go, landlords, sleep, ...          41   \n",
       "380  {ugly, , mutter, rubber, x8, lo, digo, boom, l...          49   \n",
       "\n",
       "     Sentiment_Score  \n",
       "342        -0.170354  \n",
       "380         0.179894  "
      ]
     },
     "execution_count": 15,
     "metadata": {},
     "output_type": "execute_result"
    }
   ],
   "source": [
    "lyrics_data[lyrics_data['artist']=='robyn'].sort_values(by=['Sentiment_Score']).iloc[[0,-1]] "
   ]
  },
  {
   "cell_type": "markdown",
   "metadata": {},
   "source": [
    "## Q: Plot the distributions of the sentiment scores for both artists. You can use  seaborn  to plot densities or plot histograms in matplotlib."
   ]
  },
  {
   "cell_type": "code",
   "execution_count": 16,
   "metadata": {},
   "outputs": [
    {
     "data": {
      "text/plain": [
       "array([<AxesSubplot:title={'center':'cher'}>,\n",
       "       <AxesSubplot:title={'center':'robyn'}>], dtype=object)"
      ]
     },
     "execution_count": 16,
     "metadata": {},
     "output_type": "execute_result"
    },
    {
     "data": {
      "image/png": "[encoded data removed]",
      "text/plain": [
       "<Figure size 1080x504 with 2 Axes>"
      ]
     },
     "metadata": {
      "needs_background": "light"
     },
     "output_type": "display_data"
    }
   ],
   "source": [
    "# Plotting histograms by artists\n",
    "kwargs = dict(histtype='stepfilled', alpha=0.3, normed=True, bins=40)\n",
    "\n",
    "lyrics_data[['Sentiment_Score','artist']].hist(by='artist',figsize=(15,7)) "
   ]
  },
  {
   "cell_type": "markdown",
   "metadata": {},
   "source": [
    "# Sentiment Analysis on Twitter Descriptions"
   ]
  },
  {
   "cell_type": "markdown",
   "metadata": {},
   "source": [
    "# Associate your positive emojis with a score of +1, negative with -1. Score the average sentiment of your two artists based on the Twitter\n",
    "# descriptions of their followers. The average sentiment can just be the total score divided by number of followers."
   ]
  },
  {
   "cell_type": "code",
   "execution_count": 17,
   "metadata": {},
   "outputs": [],
   "source": [
    "## Pulled csv for emojis from: https://github.com/pan-webis-de/martinc17/blob/master/word_lists/Emoji_Sentiment_Data_v1.0.csv"
   ]
  },
  {
   "cell_type": "code",
   "execution_count": 18,
   "metadata": {},
   "outputs": [],
   "source": [
    "emoji_df = pd.read_csv(\"Emoji_Sentiment_Data.csv\") \n",
    "emoji_df['pos'] = emoji_df['Positive']/emoji_df['Occurrences'] \n",
    "emoji_df['neg'] = emoji_df['Negative']/emoji_df['Occurrences']"
   ]
  },
  {
   "cell_type": "code",
   "execution_count": 19,
   "metadata": {},
   "outputs": [],
   "source": [
    "emoji_dict = {} \n",
    "pos_score = 1 \n",
    "neg_score = -1 \n",
    "neural_score = 0 \n",
    " \n",
    "# Adding the emojies to the emoji dict if they are pos, neg, or neutral\n",
    "for idx,emo in enumerate(emoji_df['Emoji'].tolist()): \n",
    "  if emoji_df['pos'][idx] > emoji_df['neg'][idx]: \n",
    "    emoji_dict[emo] = pos_score \n",
    "  elif emoji_df['pos'][idx] < emoji_df['neg'][idx]: \n",
    "    emoji_dict[emo] = neg_score \n",
    "  else: \n",
    "    emoji_dict[emo] = neural_score"
   ]
  },
  {
   "cell_type": "code",
   "execution_count": 20,
   "metadata": {},
   "outputs": [],
   "source": [
    "# Function for parsing emojis\n",
    "all_language_emojis = set()\n",
    "\n",
    "for country in emoji.UNICODE_EMOJI : \n",
    "    for em in emoji.UNICODE_EMOJI[country] : \n",
    "        all_language_emojis.add(em)\n",
    "\n",
    "def is_emoji(s):\n",
    "    return(s in all_language_emojis)"
   ]
  },
  {
   "cell_type": "code",
   "execution_count": 21,
   "metadata": {},
   "outputs": [],
   "source": [
    "def is_emoji(text): \n",
    "  return_list = []\n",
    "\n",
    "  for s in str(text):\n",
    "    if s in emoji.UNICODE_EMOJI['en'].keys():\n",
    "      return_list.append(s)\n",
    "\n",
    "  # return_list = [s for s in text if s in emoji.UNICODE_EMOJI['en']]\n",
    "  return return_list\n",
    "\n",
    "def emoji_sentiment_score(text): \n",
    "  sentiment_score = 0 \n",
    "  b_o_e = is_emoji(text) \n",
    "  if b_o_e: \n",
    "    for emo in b_o_e: \n",
    "      if emo in emoji_dict: \n",
    "        sentiment_score += emoji_dict[emo] \n",
    "    return sentiment_score / len(b_o_e) \n",
    "  else: \n",
    "    return None\n",
    "\n",
    "twitter_data['emoji_Sentiment_Score'] = twitter_data['description'].apply(emoji_sentiment_score) "
   ]
  },
  {
   "cell_type": "code",
   "execution_count": 22,
   "metadata": {},
   "outputs": [
    {
     "data": {
      "text/html": [
       "<div>\n",
       "<style scoped>\n",
       "    .dataframe tbody tr th:only-of-type {\n",
       "        vertical-align: middle;\n",
       "    }\n",
       "\n",
       "    .dataframe tbody tr th {\n",
       "        vertical-align: top;\n",
       "    }\n",
       "\n",
       "    .dataframe thead th {\n",
       "        text-align: right;\n",
       "    }\n",
       "</style>\n",
       "<table border=\"1\" class=\"dataframe\">\n",
       "  <thead>\n",
       "    <tr style=\"text-align: right;\">\n",
       "      <th></th>\n",
       "      <th>screen_name</th>\n",
       "      <th>name</th>\n",
       "      <th>id</th>\n",
       "      <th>location</th>\n",
       "      <th>followers_count</th>\n",
       "      <th>friends_count</th>\n",
       "      <th>description</th>\n",
       "      <th>artist</th>\n",
       "      <th>tokens</th>\n",
       "      <th>num_tokens</th>\n",
       "      <th>emoji_Sentiment_Score</th>\n",
       "    </tr>\n",
       "  </thead>\n",
       "  <tbody>\n",
       "    <tr>\n",
       "      <th>0</th>\n",
       "      <td>hsmcnp</td>\n",
       "      <td>Country Girl</td>\n",
       "      <td>35152213</td>\n",
       "      <td>NaN</td>\n",
       "      <td>1302</td>\n",
       "      <td>1014</td>\n",
       "      <td>NaN</td>\n",
       "      <td>cher</td>\n",
       "      <td>{nan}</td>\n",
       "      <td>1</td>\n",
       "      <td>NaN</td>\n",
       "    </tr>\n",
       "    <tr>\n",
       "      <th>1</th>\n",
       "      <td>horrormomy</td>\n",
       "      <td>Jeny</td>\n",
       "      <td>742153090850164742</td>\n",
       "      <td>Earth</td>\n",
       "      <td>81</td>\n",
       "      <td>514</td>\n",
       "      <td>𝙿𝚛𝚘𝚞𝚍 𝚜𝚞𝚙𝚙𝚘𝚛𝚝𝚎𝚛 𝚘𝚏 𝚖𝚎𝚜𝚜𝚢 𝚋𝚞𝚗𝚜 &amp; 𝚕𝚎𝚐𝚐𝚒𝚗𝚐𝚜</td>\n",
       "      <td>cher</td>\n",
       "      <td>{𝙿𝚛𝚘𝚞𝚍, 𝚋𝚞𝚗𝚜, 𝚘𝚏, 𝚜𝚞𝚙𝚙𝚘𝚛𝚝𝚎𝚛, 𝚕𝚎𝚐𝚐𝚒𝚗𝚐𝚜, 𝚖𝚎𝚜𝚜𝚢}</td>\n",
       "      <td>6</td>\n",
       "      <td>NaN</td>\n",
       "    </tr>\n",
       "    <tr>\n",
       "      <th>2</th>\n",
       "      <td>anju79990584</td>\n",
       "      <td>anju</td>\n",
       "      <td>1496463006451974150</td>\n",
       "      <td>NaN</td>\n",
       "      <td>13</td>\n",
       "      <td>140</td>\n",
       "      <td>163㎝／愛かっぷ💜26歳🍒 工〇好きな女の子💓 フォローしてくれたらDMします🧡</td>\n",
       "      <td>cher</td>\n",
       "      <td>{163㎝／愛かっぷ💜26歳🍒, 工〇好きな女の子💓, フォローしてくれたらdmします🧡}</td>\n",
       "      <td>3</td>\n",
       "      <td>0.75</td>\n",
       "    </tr>\n",
       "    <tr>\n",
       "      <th>3</th>\n",
       "      <td>gallionjenna</td>\n",
       "      <td>J</td>\n",
       "      <td>3366479914</td>\n",
       "      <td>NaN</td>\n",
       "      <td>752</td>\n",
       "      <td>556</td>\n",
       "      <td>csu</td>\n",
       "      <td>cher</td>\n",
       "      <td>{csu}</td>\n",
       "      <td>1</td>\n",
       "      <td>NaN</td>\n",
       "    </tr>\n",
       "    <tr>\n",
       "      <th>4</th>\n",
       "      <td>bcscomm</td>\n",
       "      <td>bcscomm</td>\n",
       "      <td>83915043</td>\n",
       "      <td>Washington, DC</td>\n",
       "      <td>888</td>\n",
       "      <td>2891</td>\n",
       "      <td>Writer @Washinformer @SpelmanCollege alumna #D...</td>\n",
       "      <td>cher</td>\n",
       "      <td>{wibsilergmailcom, past, writer, pro, pr, bcsc...</td>\n",
       "      <td>17</td>\n",
       "      <td>NaN</td>\n",
       "    </tr>\n",
       "  </tbody>\n",
       "</table>\n",
       "</div>"
      ],
      "text/plain": [
       "    screen_name          name                   id        location  \\\n",
       "0        hsmcnp  Country Girl             35152213             NaN   \n",
       "1    horrormomy          Jeny   742153090850164742           Earth   \n",
       "2  anju79990584          anju  1496463006451974150             NaN   \n",
       "3  gallionjenna             J           3366479914             NaN   \n",
       "4       bcscomm       bcscomm             83915043  Washington, DC   \n",
       "\n",
       "   followers_count  friends_count  \\\n",
       "0             1302           1014   \n",
       "1               81            514   \n",
       "2               13            140   \n",
       "3              752            556   \n",
       "4              888           2891   \n",
       "\n",
       "                                         description artist  \\\n",
       "0                                                NaN   cher   \n",
       "1           𝙿𝚛𝚘𝚞𝚍 𝚜𝚞𝚙𝚙𝚘𝚛𝚝𝚎𝚛 𝚘𝚏 𝚖𝚎𝚜𝚜𝚢 𝚋𝚞𝚗𝚜 & 𝚕𝚎𝚐𝚐𝚒𝚗𝚐𝚜   cher   \n",
       "2          163㎝／愛かっぷ💜26歳🍒 工〇好きな女の子💓 フォローしてくれたらDMします🧡   cher   \n",
       "3                                                csu   cher   \n",
       "4  Writer @Washinformer @SpelmanCollege alumna #D...   cher   \n",
       "\n",
       "                                              tokens  num_tokens  \\\n",
       "0                                              {nan}           1   \n",
       "1      {𝙿𝚛𝚘𝚞𝚍, 𝚋𝚞𝚗𝚜, 𝚘𝚏, 𝚜𝚞𝚙𝚙𝚘𝚛𝚝𝚎𝚛, 𝚕𝚎𝚐𝚐𝚒𝚗𝚐𝚜, 𝚖𝚎𝚜𝚜𝚢}           6   \n",
       "2      {163㎝／愛かっぷ💜26歳🍒, 工〇好きな女の子💓, フォローしてくれたらdmします🧡}           3   \n",
       "3                                              {csu}           1   \n",
       "4  {wibsilergmailcom, past, writer, pro, pr, bcsc...          17   \n",
       "\n",
       "   emoji_Sentiment_Score  \n",
       "0                    NaN  \n",
       "1                    NaN  \n",
       "2                   0.75  \n",
       "3                    NaN  \n",
       "4                    NaN  "
      ]
     },
     "execution_count": 22,
     "metadata": {},
     "output_type": "execute_result"
    }
   ],
   "source": [
    "twitter_data.head(5)"
   ]
  },
  {
   "cell_type": "code",
   "execution_count": 23,
   "metadata": {},
   "outputs": [
    {
     "data": {
      "text/plain": [
       "artist\n",
       "cher     0.705995\n",
       "robyn    0.701168\n",
       "Name: emoji_Sentiment_Score, dtype: float64"
      ]
     },
     "execution_count": 23,
     "metadata": {},
     "output_type": "execute_result"
    }
   ],
   "source": [
    "twitter_data.dropna(subset=['emoji_Sentiment_Score']).groupby('artist')['emoji_Sentiment_Score'].mean()"
   ]
  },
  {
   "cell_type": "code",
   "execution_count": 24,
   "metadata": {},
   "outputs": [],
   "source": [
    "def is_emoji(text): \n",
    "  return_list = []\n",
    "\n",
    "  for s in str(text):\n",
    "    if s in emoji.UNICODE_EMOJI['en'].keys():\n",
    "      return_list.append(s)\n",
    "\n",
    "  # return_list = [s for s in text if s in emoji.UNICODE_EMOJI['en']]\n",
    "  return return_list\n",
    "\n",
    "twitter_data['description_emojis'] = twitter_data['description'].apply(is_emoji) "
   ]
  },
  {
   "cell_type": "markdown",
   "metadata": {},
   "source": [
    "# Q: Which positive emoji is the most popular for each artist? Which negative emoji?"
   ]
  },
  {
   "cell_type": "code",
   "execution_count": 59,
   "metadata": {},
   "outputs": [],
   "source": [
    "from collections import Counter\n",
    "twitter_data.head(5)\n",
    "\n",
    "most_common_emoji_dict = {}\n",
    "\n",
    "for this_artist in artist_files.keys():\n",
    "    full_emoji_list = []\n",
    "\n",
    "    for row in twitter_data.itertuples():\n",
    "        # print(type(twitter_data['description_emojis']))\n",
    "        \n",
    "        this_list = twitter_data['description_emojis'].tolist()\n",
    "        print(this_list)\n",
    "        full_emoji_list+=this_list\n",
    "        \n",
    "\n",
    "    this_counter=Counter(full_emoji_list)\n",
    "    most_common_emoji_dict[artist]=this_counter.most_common()\n",
    "    # print(counters_dict[artist])\n"
   ]
  }
 ],
 "metadata": {
  "kernelspec": {
   "display_name": "Python 3.9.7 ('base')",
   "language": "python",
   "name": "python3"
  },
  "language_info": {
   "codemirror_mode": {
    "name": "ipython",
    "version": 3
   },
   "file_extension": ".py",
   "mimetype": "text/x-python",
   "name": "python",
   "nbconvert_exporter": "python",
   "pygments_lexer": "ipython3",
   "version": "3.9.7"
  },
  "orig_nbformat": 4,
  "vscode": {
   "interpreter": {
    "hash": "c21f4b550d44dd8da30efeda0f3fb842b1394f99ed710ddf513c5093383f4f73"
   }
  }
 },
 "nbformat": 4,
 "nbformat_minor": 2
}
